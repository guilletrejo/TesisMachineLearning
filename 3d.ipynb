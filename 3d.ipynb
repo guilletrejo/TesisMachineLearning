{
 "cells": [
  {
   "cell_type": "code",
   "execution_count": 3,
   "metadata": {
    "collapsed": false,
    "deletable": true,
    "editable": true
   },
   "outputs": [],
   "source": [
    "import numpy as np\n",
    "import os.path\n",
    "import sys\n",
    "from keras.models import Sequential, load_model\n",
    "from keras.layers import Convolution2D, MaxPooling2D, Convolution3D, MaxPooling3D\n",
    "#from keras.layers.convolutional import Conv2D, Conv3D\n",
    "#from keras.layers.pooling import MaxPooling2D, MaxPooling3D\n",
    "from keras.layers.core import Flatten, Dense, Lambda\n",
    "from keras import backend as K\n",
    "from keras.optimizers import SGD, Adagrad, Adadelta\n",
    "from keras.callbacks import CSVLogger\n",
    "\n",
    "airports = ['EIDW', 'EGLL', 'LFPG', 'LFBO', 'EGPH', 'EHAM', 'EBBR', 'LEMD', 'LEBL', 'LPPT', 'LIRF',\n",
    "            'LIMC', 'LSZH', 'EDDM', 'EDFH', 'EDDT', 'EKCH', 'ENGM', 'ESSA', 'EFHK', 'LOWW']\n",
    "\n",
    "def get_rains(code):\n",
    "    arr = np.load(\"/home/guilletrejo/DeepWeather-master/short/rain_shorter.npy\")\n",
    "    idx = airports.index(code)\n",
    "    return arr[:, idx].astype(np.int32)\n",
    "\n",
    "def get_era_full(param, level):\n",
    "    arr = np.load(\"/home/guilletrejo/DeepWeather-master/short/{}{}_shorter_uint8.npy\".format(param, level))\n",
    "    return arr.astype(np.float32) / 256.\n",
    "\n",
    "def train_model(airport):\n",
    "    # Import data\n",
    "    params = [\"z\", \"z\", \"z\"]\n",
    "    levels = [500, 700, 1000]\n",
    "\n",
    "    in1_var = get_era_full(params[0], levels[0])\n",
    "    in2_var = get_era_full(params[1], levels[1])\n",
    "    in3_var = get_era_full(params[2], levels[2])\n",
    "\n",
    "    print(\"Shape in1 = \" + str(in1_var.shape))\n",
    "    print(\"Shape in2 = \" + str(in2_var.shape))\n",
    "    print(\"Shape in3 = \" + str(in3_var.shape))\n",
    "    \n",
    "    # Agrega un eje mas interno a los arreglos input\n",
    "    in1_var_ex = np.expand_dims(in1_var, axis=3)\n",
    "    in2_var_ex = np.expand_dims(in2_var, axis=3)\n",
    "    in3_var_ex = np.expand_dims(in3_var, axis=3)\n",
    "\n",
    "    print(\"Shape in1_ex = \" + str(in1_var_ex.shape))\n",
    "    print(\"Shape in2_ex = \" + str(in2_var_ex.shape))\n",
    "    print(\"Shape in3_ex = \" + str(in3_var_ex.shape))\n",
    "\n",
    "    # Concatena los 3 input de 4 dimensiones y shape 140,80,120,1 en un solo input \n",
    "    # de 4 dimensiones con shape 140,80,120,3\n",
    "    x = np.concatenate((in1_var_ex, in2_var_ex, in3_var_ex), axis=3)\n",
    "    print(x.shape)\n",
    "    \n",
    "    X = np.zeros((93, 80, 120, 8, 3))\n",
    "    for i in range(93):\n",
    "        X[i,:,:,:,:] = np.rollaxis(x[i:i+8, :, :, :],0,3)\n",
    "\n",
    "    Y = get_rains(airport)[7:]\n",
    "    b = np.zeros((Y.shape[0], 2))\n",
    "    b[np.arange(Y.shape[0]), Y] = 1\n",
    "\n",
    "    model = None\n",
    "    if os.path.isfile('model_3d_{}.h5'.format(airport)):\n",
    "        model = load_model('model_3d_{}.h5'.format(airport))\n",
    "    else:\n",
    "        model = Sequential()\n",
    "        model.add(Convolution3D(128, (3, 3, 3), padding='same', activation='relu', name='block1_conv1', input_shape=(80,120,8,3)))\n",
    "        model.add(MaxPooling3D((2, 2, 2), strides=(2, 2, 2)))\n",
    "\n",
    "        model.add(Convolution3D(256, (3, 3, 3), padding='same', activation='relu', name='block2_conv1'))\n",
    "        model.add(MaxPooling3D((2, 2, 2), strides=(2, 2, 2)))\n",
    "\n",
    "        model.add(Flatten())\n",
    "        model.add(Dense(2, activation = 'softmax', name='final_fully_connected'))\n",
    "\n",
    "        adagrad = Adagrad(lr=0.0002)\n",
    "        model.compile(loss='categorical_crossentropy', optimizer = adagrad, metrics=['accuracy'])\n",
    "\n",
    "    csv_logger = CSVLogger('{}.log'.format(airport))\n",
    "    model.fit(X, b, batch_size=20, epochs=5, verbose=1, validation_split=0.2, callbacks=[csv_logger])\n",
    "\n",
    "    model.save('model_3d_{}.h5'.format(airport))\n"
   ]
  },
  {
   "cell_type": "code",
   "execution_count": 4,
   "metadata": {
    "collapsed": false,
    "deletable": true,
    "editable": true
   },
   "outputs": [
    {
     "name": "stdout",
     "output_type": "stream",
     "text": [
      "Shape in1 = (100, 80, 120)\n",
      "Shape in2 = (100, 80, 120)\n",
      "Shape in3 = (100, 80, 120)\n",
      "Shape in1_ex = (100, 80, 120, 1)\n",
      "Shape in2_ex = (100, 80, 120, 1)\n",
      "Shape in3_ex = (100, 80, 120, 1)\n",
      "(100, 80, 120, 3)\n",
      "Train on 74 samples, validate on 19 samples\n",
      "Epoch 1/5\n",
      "74/74 [==============================] - 179s 2s/step - loss: 1.1228 - acc: 0.6216 - val_loss: 0.6655 - val_acc: 0.6316\b\b\b\b\b\b\b\b\b\b\b\b\b\b\b\b\b\b\b\b\b\b\b\b\b\b\b\b\b\b\b\b\b\b\b\b\b\b\b\b\b\b\b\b\b\b\b\b\b\b\b\b\b\b\b\b\b\b\b\b\b\b\b\b\b\b\b\b\b\b\b\b\b\b\b\b\b\b\b\b\b\b\b\b\b\b\b\b\b\b\b\b\b\b\b\b\b\b\b\b\b\b\b\b\b\b\b\b\b\b\b\b\b\b\b\b\b\b\b\b\b\b\b\b\b\b\b\b\b\b\b\b\b\b\b\b\b\b\b\b\b\b\b\b\b\b\b\b\b\b\b\b\b\b\b\b\b\b\b\b\b\b\b\b\b\b\b\b\b\b\b\b\b\b\b\b\b\b\b\b\b\b\b\b\b\b\b\b\b\b\b\b\b\b\b\b\n",
      "Epoch 2/5\n",
      "74/74 [==============================] - 177s 2s/step - loss: 0.6609 - acc: 0.5676 - val_loss: 0.6713 - val_acc: 0.6316\b\b\b\b\b\b\b\b\b\b\b\b\b\b\b\b\b\b\b\b\b\b\b\b\b\b\b\b\b\b\b\b\b\b\b\b\b\b\b\b\b\b\b\b\b\b\b\b\b\b\b\b\b\b\b\b\b\b\b\b\b\b\b\b\b\b\b\b\b\b\b\b\b\b\b\b\b\b\b\b\b\b\b\b\b\b\b\b\b\b\b\b\b\b\b\b\b\b\b\b\b\b\b\b\b\b\b\b\b\b\b\b\b\b\b\b\b\b\b\b\b\b\b\b\b\b\b\b\b\b\b\b\b\b\b\b\b\b\b\b\b\b\b\b\b\b\b\b\b\b\b\b\b\b\b\b\b\b\b\b\b\b\b\b\b\b\b\b\b\b\b\b\b\b\b\b\b\b\b\b\b\b\b\b\b\b\b\b\b\b\b\b\b\b\b\b\n",
      "Epoch 3/5\n",
      "74/74 [==============================] - 177s 2s/step - loss: 0.6875 - acc: 0.6216 - val_loss: 0.6598 - val_acc: 0.6316\b\b\b\b\b\b\b\b\b\b\b\b\b\b\b\b\b\b\b\b\b\b\b\b\b\b\b\b\b\b\b\b\b\b\b\b\b\b\b\b\b\b\b\b\b\b\b\b\b\b\b\b\b\b\b\b\b\b\b\b\b\b\b\b\b\b\b\b\b\b\b\b\b\b\b\b\b\b\b\b\b\b\b\b\b\b\b\b\b\b\b\b\b\b\b\b\b\b\b\b\b\b\b\b\b\b\b\b\b\b\b\b\b\b\b\b\b\b\b\b\b\b\b\b\b\b\b\b\b\b\b\b\b\b\b\b\b\b\b\b\b\b\b\b\b\b\b\b\b\b\b\b\b\b\b\b\b\b\b\b\b\b\b\b\b\b\b\b\b\b\b\b\b\b\b\b\b\b\b\b\b\b\b\b\b\b\b\b\b\b\b\b\b\b\b\b\n",
      "Epoch 4/5\n",
      "74/74 [==============================] - 181s 2s/step - loss: 0.6774 - acc: 0.6216 - val_loss: 0.6631 - val_acc: 0.6316\b\b\b\b\b\b\b\b\b\b\b\b\b\b\b\b\b\b\b\b\b\b\b\b\b\b\b\b\b\b\b\b\b\b\b\b\b\b\b\b\b\b\b\b\b\b\b\b\b\b\b\b\b\b\b\b\b\b\b\b\b\b\b\b\b\b\b\b\b\b\b\b\b\b\b\b\b\b\b\b\b\b\b\b\b\b\b\b\b\b\b\b\b\b\b\b\b\b\b\b\b\b\b\b\b\b\b\b\b\b\b\b\b\b\b\b\b\b\b\b\b\b\b\b\b\b\b\b\b\b\b\b\b\b\b\b\b\b\b\b\b\b\b\b\b\b\b\b\b\b\b\b\b\b\b\b\b\b\b\b\b\b\b\b\b\b\b\b\b\b\b\b\b\b\b\b\b\b\b\b\b\b\b\b\b\b\b\b\b\b\b\b\b\b\b\b\n",
      "Epoch 5/5\n",
      "74/74 [==============================] - 182s 2s/step - loss: 0.6619 - acc: 0.6216 - val_loss: 0.7134 - val_acc: 0.3684\b\b\b\b\b\b\b\b\b\b\b\b\b\b\b\b\b\b\b\b\b\b\b\b\b\b\b\b\b\b\b\b\b\b\b\b\b\b\b\b\b\b\b\b\b\b\b\b\b\b\b\b\b\b\b\b\b\b\b\b\b\b\b\b\b\b\b\b\b\b\b\b\b\b\b\b\b\b\b\b\b\b\b\b\b\b\b\b\b\b\b\b\b\b\b\b\b\b\b\b\b\b\b\b\b\b\b\b\b\b\b\b\b\b\b\b\b\b\b\b\b\b\b\b\b\b\b\b\b\b\b\b\b\b\b\b\b\b\b\b\b\b\b\b\b\b\b\b\b\b\b\b\b\b\b\b\b\b\b\b\b\b\b\b\b\b\b\b\b\b\b\b\b\b\b\b\b\b\b\b\b\b\b\b\b\b\b\b\b\b\b\b\b\b\b\b\n"
     ]
    }
   ],
   "source": [
    "if __name__ == '__main__':\n",
    "    airport = 'EIDW'\n",
    "    model3d = train_model(airport)"
   ]
  },
  {
   "cell_type": "code",
   "execution_count": 5,
   "metadata": {
    "collapsed": false,
    "deletable": true,
    "editable": true
   },
   "outputs": [],
   "source": [
    "import numpy as np\n",
    "# Estos archivos son los datos, los samples\n",
    "matriz500 = np.load(\"/home/guilletrejo/DeepWeather-master/z500_uint8.npy\")\n",
    "matriz700 = np.load(\"/home/guilletrejo/DeepWeather-master/z700_uint8.npy\")\n",
    "matriz1000 = np.load(\"/home/guilletrejo/DeepWeather-master/z1000_uint8.npy\")\n"
   ]
  },
  {
   "cell_type": "code",
   "execution_count": 6,
   "metadata": {
    "collapsed": false,
    "deletable": true,
    "editable": true
   },
   "outputs": [
    {
     "name": "stdout",
     "output_type": "stream",
     "text": [
      "(13148, 80, 120)\n",
      "(13148, 80, 120)\n",
      "(13148, 80, 120)\n"
     ]
    }
   ],
   "source": [
    "print(matriz500.shape)\n",
    "print(matriz700.shape)\n",
    "print(matriz1000.shape)\n"
   ]
  },
  {
   "cell_type": "code",
   "execution_count": 7,
   "metadata": {
    "collapsed": false,
    "deletable": true,
    "editable": true
   },
   "outputs": [
    {
     "name": "stdout",
     "output_type": "stream",
     "text": [
      "(1348, 80, 120)\n",
      "(1348, 80, 120)\n",
      "(1348, 80, 120)\n"
     ]
    }
   ],
   "source": [
    "mat500 = matriz500[:1348][:][:]\n",
    "mat700 = matriz700[:1348][:][:]\n",
    "mat1000 = matriz1000[:1348][:][:]\n",
    "print(mat500.shape)\n",
    "print(mat700.shape)\n",
    "print(mat1000.shape)\n"
   ]
  },
  {
   "cell_type": "code",
   "execution_count": 12,
   "metadata": {
    "collapsed": false,
    "deletable": true,
    "editable": true
   },
   "outputs": [],
   "source": [
    "X1 = np.load(\"/home/guilletrejo/DeepWeather-master/short/z500_shorter_uint8.npy\")\n",
    "X2 = np.load(\"/home/guilletrejo/DeepWeather-master/short/z700_shorter_uint8.npy\")\n",
    "X3 = np.load(\"/home/guilletrejo/DeepWeather-master/short/z1000_shorter_uint8.npy\")"
   ]
  },
  {
   "cell_type": "code",
   "execution_count": 13,
   "metadata": {
    "collapsed": false,
    "deletable": true,
    "editable": true
   },
   "outputs": [
    {
     "name": "stdout",
     "output_type": "stream",
     "text": [
      "(100, 80, 120, 3)\n"
     ]
    }
   ],
   "source": [
    "X1_ex = np.expand_dims(X1,axis=3)\n",
    "X2_ex = np.expand_dims(X2,axis=3)\n",
    "X3_ex = np.expand_dims(X3,axis=3)\n",
    "Xall = np.concatenate((X1_ex,X2_ex,X3_ex),axis=3)\n",
    "print(Xall.shape)"
   ]
  },
  {
   "cell_type": "code",
   "execution_count": 26,
   "metadata": {
    "collapsed": false
   },
   "outputs": [],
   "source": [
    "xall = np.zeros((93, 80, 120, 8, 3))\n",
    "for i in range(93):\n",
    "    xall[i,:,:,:,:] = np.rollaxis(Xall[i:i+8, :, :, :],0,3)"
   ]
  },
  {
   "cell_type": "code",
   "execution_count": 29,
   "metadata": {
    "collapsed": false,
    "deletable": true,
    "editable": true
   },
   "outputs": [
    {
     "name": "stdout",
     "output_type": "stream",
     "text": [
      "(93,)\n",
      "(93,)\n",
      "(93, 2)\n",
      "93/93 [==============================] - 59s 630ms/step\b\b\b\b\b\b\b\b\b\b\b\b\b\b\b\b\b\b\b\b\b\b\b\b\b\b\b\b\b\b\b\b\b\b\b\b\b\b\b\b\b\b\b\b\b\b\b\b\b\b\b\b\b\b\b\b\b\b\b\b\b\b\b\b\b\b\b\b\b\b\b\b\b\b\b\b\b\b\b\b\b\b\b\b\b\b\b\b\b\b\b\b\b\b\n",
      "[10.225458545069541, 0.36559139768923482]\n",
      "93/93 [==============================] - 33s 358ms/step\b\b\b\b\b\b\b\b\b\b\b\b\b\b\b\b\b\b\b\b\b\b\b\b\b\b\b\b\b\b\b\b\b\b\b\b\b\b\b\b\b\b\b\b\b\b\b\b\b\b\b\b\b\b\b\b\b\b\b\b\b\b\b\b\b\b\b\b\b\b\b\b\b\b\b\b\b\b\b\b\b\b\b\b\b\b\b\b\b\b\b\b\n"
     ]
    }
   ],
   "source": [
    "def get_rains(code):\n",
    "    arr = np.load(\"/home/guilletrejo/DeepWeather-master/short/rain_shorter.npy\")\n",
    "    idx = airports.index(code)\n",
    "    return arr[:, idx].astype(np.int32)\n",
    "\n",
    "y = get_rains('EIDW')\n",
    "y = y[:93]\n",
    "print(y.shape)\n",
    "b = np.zeros((y.shape[0], 2))\n",
    "b[np.arange(y.shape[0]), y] = 1\n",
    "print(y.shape)\n",
    "print(b.shape)\n",
    "\n",
    "\n",
    "\n",
    "model1 = load_model('model_3d_EIDW.h5')\n",
    "print(model1.evaluate(xall,b))\n",
    "prediction = model1.predict(xall,verbose=1)"
   ]
  },
  {
   "cell_type": "code",
   "execution_count": 31,
   "metadata": {
    "collapsed": false
   },
   "outputs": [
    {
     "name": "stdout",
     "output_type": "stream",
     "text": [
      "(93, 2)\n",
      "[[  6.20043561e-22   1.00000000e+00]\n",
      " [  9.22418363e-22   1.00000000e+00]\n",
      " [  2.11672712e-21   1.00000000e+00]\n",
      " [  2.40667715e-21   1.00000000e+00]\n",
      " [  5.84155110e-21   1.00000000e+00]\n",
      " [  1.13943507e-20   1.00000000e+00]\n",
      " [  1.25180659e-20   1.00000000e+00]\n",
      " [  1.20379094e-20   1.00000000e+00]\n",
      " [  1.06064911e-20   1.00000000e+00]\n",
      " [  1.37505028e-20   1.00000000e+00]\n",
      " [  2.60551779e-20   1.00000000e+00]\n",
      " [  6.69865206e-20   1.00000000e+00]\n",
      " [  1.55330018e-19   1.00000000e+00]\n",
      " [  5.70216852e-19   1.00000000e+00]\n",
      " [  7.67094058e-19   1.00000000e+00]\n",
      " [  1.48661455e-19   1.00000000e+00]\n",
      " [  6.76175399e-21   1.00000000e+00]\n",
      " [  2.64723267e-22   1.00000000e+00]\n",
      " [  3.01820896e-23   1.00000000e+00]\n",
      " [  3.50710519e-23   1.00000000e+00]\n",
      " [  2.97796481e-22   1.00000000e+00]\n",
      " [  7.56619279e-21   1.00000000e+00]\n",
      " [  7.82196334e-20   1.00000000e+00]\n",
      " [  2.35199656e-19   1.00000000e+00]\n",
      " [  2.07077377e-19   1.00000000e+00]\n",
      " [  8.07694305e-20   1.00000000e+00]\n",
      " [  5.95406180e-21   1.00000000e+00]\n",
      " [  1.05546566e-22   1.00000000e+00]\n",
      " [  2.18654288e-23   1.00000000e+00]\n",
      " [  1.26821397e-23   1.00000000e+00]\n",
      " [  1.85621962e-22   1.00000000e+00]\n",
      " [  7.65964562e-21   1.00000000e+00]\n",
      " [  2.48175975e-19   1.00000000e+00]\n",
      " [  7.08975262e-19   1.00000000e+00]\n",
      " [  5.11254125e-19   1.00000000e+00]\n",
      " [  9.89815902e-19   1.00000000e+00]\n",
      " [  1.00770317e-18   1.00000000e+00]\n",
      " [  1.99809432e-19   1.00000000e+00]\n",
      " [  7.27053792e-21   1.00000000e+00]\n",
      " [  1.52954298e-22   1.00000000e+00]\n",
      " [  2.34285788e-23   1.00000000e+00]\n",
      " [  1.16731771e-23   1.00000000e+00]\n",
      " [  2.00464071e-23   1.00000000e+00]\n",
      " [  1.23001133e-23   1.00000000e+00]\n",
      " [  6.80085743e-24   1.00000000e+00]\n",
      " [  9.17210389e-24   1.00000000e+00]\n",
      " [  9.41181679e-23   1.00000000e+00]\n",
      " [  2.55704206e-21   1.00000000e+00]\n",
      " [  8.22845798e-20   1.00000000e+00]\n",
      " [  5.18938840e-19   1.00000000e+00]\n",
      " [  8.79128796e-19   1.00000000e+00]\n",
      " [  3.02622760e-19   1.00000000e+00]\n",
      " [  5.89121134e-20   1.00000000e+00]\n",
      " [  2.59196625e-20   1.00000000e+00]\n",
      " [  2.34131582e-20   1.00000000e+00]\n",
      " [  4.10595654e-20   1.00000000e+00]\n",
      " [  1.01200565e-19   1.00000000e+00]\n",
      " [  4.10113718e-19   1.00000000e+00]\n",
      " [  2.99229650e-18   1.00000000e+00]\n",
      " [  1.63134625e-17   1.00000000e+00]\n",
      " [  4.68518739e-17   1.00000000e+00]\n",
      " [  4.50537387e-17   1.00000000e+00]\n",
      " [  1.02345998e-16   1.00000000e+00]\n",
      " [  1.54306189e-16   1.00000000e+00]\n",
      " [  8.79076071e-17   1.00000000e+00]\n",
      " [  2.74231731e-17   1.00000000e+00]\n",
      " [  1.38922469e-17   1.00000000e+00]\n",
      " [  1.83869032e-17   1.00000000e+00]\n",
      " [  3.41092988e-17   1.00000000e+00]\n",
      " [  3.66431052e-17   1.00000000e+00]\n",
      " [  1.53267171e-17   1.00000000e+00]\n",
      " [  5.30117803e-18   1.00000000e+00]\n",
      " [  6.81598996e-19   1.00000000e+00]\n",
      " [  1.85161847e-19   1.00000000e+00]\n",
      " [  9.41790041e-20   1.00000000e+00]\n",
      " [  7.32563687e-20   1.00000000e+00]\n",
      " [  2.23214947e-19   1.00000000e+00]\n",
      " [  8.26325153e-19   1.00000000e+00]\n",
      " [  2.47432138e-18   1.00000000e+00]\n",
      " [  3.93633126e-18   1.00000000e+00]\n",
      " [  2.55851927e-18   1.00000000e+00]\n",
      " [  8.35466274e-19   1.00000000e+00]\n",
      " [  2.42812923e-19   1.00000000e+00]\n",
      " [  3.94130075e-20   1.00000000e+00]\n",
      " [  1.14810456e-20   1.00000000e+00]\n",
      " [  2.86490956e-21   1.00000000e+00]\n",
      " [  5.96321895e-22   1.00000000e+00]\n",
      " [  4.76276759e-23   1.00000000e+00]\n",
      " [  3.92555291e-24   1.00000000e+00]\n",
      " [  1.81537779e-24   1.00000000e+00]\n",
      " [  8.48164470e-24   1.00000000e+00]\n",
      " [  3.63987919e-22   1.00000000e+00]\n",
      " [  1.45649817e-20   1.00000000e+00]]\n",
      "[1 1 0 1 1 1 1 1 0 1 0 1 0 0 0 1 0 1 0 1 0 0 0 1 1 1 1 0 0 0 0 0 0 0 1 1 1\n",
      " 0 1 0 0 0 0 0 0 0 1 0 1 1 1 1 1 1 0 0 0 0 0 0 1 1 0 1 0 0 0 0 1 1 0 0 0 1\n",
      " 1 0 0 0 0 0 0 0 0 0 0 0 0 0 0 0 0 0 0]\n"
     ]
    }
   ],
   "source": [
    "print(b.shape)\n",
    "print(prediction)\n",
    "print(y)"
   ]
  },
  {
   "cell_type": "code",
   "execution_count": 30,
   "metadata": {
    "collapsed": false,
    "deletable": true,
    "editable": true
   },
   "outputs": [
    {
     "name": "stdout",
     "output_type": "stream",
     "text": [
      "(1348, 21)\n",
      "[[ True False]\n",
      " [ True  True]\n",
      " [ True False]\n",
      " ..., \n",
      " [ True  True]\n",
      " [ True False]\n",
      " [False  True]]\n"
     ]
    }
   ],
   "source": [
    "rain_short = rain[:1348][:][:]\n",
    "print(rain_short.shape)\n",
    "print(rain[:,0:2])"
   ]
  },
  {
   "cell_type": "code",
   "execution_count": 35,
   "metadata": {
    "collapsed": true,
    "deletable": true,
    "editable": true
   },
   "outputs": [],
   "source": [
    "np.save(\"/home/guilletrejo/DeepWeather-master/short/rain_short.npy\",rain_short)"
   ]
  },
  {
   "cell_type": "code",
   "execution_count": 111,
   "metadata": {
    "collapsed": false,
    "deletable": true,
    "editable": true
   },
   "outputs": [
    {
     "name": "stdout",
     "output_type": "stream",
     "text": [
      "[[[ 1.  0.]\n",
      "  [ 0.  0.]\n",
      "  [ 0.  0.]]\n",
      "\n",
      " [[ 1.  0.]\n",
      "  [ 0.  0.]\n",
      "  [ 0.  0.]]]\n"
     ]
    }
   ],
   "source": [
    "arreglo = np.zeros((2,3,2))\n",
    "for box in arreglo:\n",
    "    box[0][0] = 1\n",
    "print(arreglo)"
   ]
  },
  {
   "cell_type": "code",
   "execution_count": 107,
   "metadata": {
    "collapsed": false,
    "deletable": true,
    "editable": true
   },
   "outputs": [
    {
     "name": "stdout",
     "output_type": "stream",
     "text": [
      "[[[ 2.  3.]\n",
      "  [ 0.  0.]\n",
      "  [ 0.  0.]]\n",
      "\n",
      " [[ 2.  3.]\n",
      "  [ 0.  0.]\n",
      "  [ 0.  0.]]]\n"
     ]
    }
   ],
   "source": [
    "arreglo2 = np.zeros((2,3,2))\n",
    "for box in arreglo2:\n",
    "    box[0][0] = 2.\n",
    "    box[0][1] = 3.\n",
    "print(arreglo2)"
   ]
  },
  {
   "cell_type": "code",
   "execution_count": 115,
   "metadata": {
    "collapsed": false,
    "deletable": true,
    "editable": true
   },
   "outputs": [
    {
     "name": "stdout",
     "output_type": "stream",
     "text": [
      "(2, 3, 2, 1)\n",
      "(2, 3, 2, 1)\n",
      "[[[[ 1.]\n",
      "   [ 0.]]\n",
      "\n",
      "  [[ 0.]\n",
      "   [ 0.]]\n",
      "\n",
      "  [[ 0.]\n",
      "   [ 0.]]]\n",
      "\n",
      "\n",
      " [[[ 1.]\n",
      "   [ 0.]]\n",
      "\n",
      "  [[ 0.]\n",
      "   [ 0.]]\n",
      "\n",
      "  [[ 0.]\n",
      "   [ 0.]]]]\n",
      "[[[[ 2.]\n",
      "   [ 3.]]\n",
      "\n",
      "  [[ 0.]\n",
      "   [ 0.]]\n",
      "\n",
      "  [[ 0.]\n",
      "   [ 0.]]]\n",
      "\n",
      "\n",
      " [[[ 2.]\n",
      "   [ 3.]]\n",
      "\n",
      "  [[ 0.]\n",
      "   [ 0.]]\n",
      "\n",
      "  [[ 0.]\n",
      "   [ 0.]]]]\n",
      "[[[[ 1.  2.]\n",
      "   [ 0.  3.]]\n",
      "\n",
      "  [[ 0.  0.]\n",
      "   [ 0.  0.]]\n",
      "\n",
      "  [[ 0.  0.]\n",
      "   [ 0.  0.]]]\n",
      "\n",
      "\n",
      " [[[ 1.  2.]\n",
      "   [ 0.  3.]]\n",
      "\n",
      "  [[ 0.  0.]\n",
      "   [ 0.  0.]]\n",
      "\n",
      "  [[ 0.  0.]\n",
      "   [ 0.  0.]]]]\n"
     ]
    }
   ],
   "source": [
    "arreglo1_ex = np.expand_dims(arreglo,axis=3)\n",
    "arreglo2_ex = np.expand_dims(arreglo2,axis=3)\n",
    "print(arreglo1_ex.shape)\n",
    "print(arreglo2_ex.shape)\n",
    "print(arreglo1_ex)\n",
    "print(arreglo2_ex)\n",
    "print(np.concatenate((arreglo1_ex,arreglo2_ex),axis=3))"
   ]
  },
  {
   "cell_type": "code",
   "execution_count": null,
   "metadata": {
    "collapsed": false,
    "deletable": true,
    "editable": true
   },
   "outputs": [],
   "source": []
  }
 ],
 "metadata": {
  "kernelspec": {
   "display_name": "Python 3",
   "language": "python",
   "name": "python3"
  },
  "language_info": {
   "codemirror_mode": {
    "name": "ipython",
    "version": 3
   },
   "file_extension": ".py",
   "mimetype": "text/x-python",
   "name": "python",
   "nbconvert_exporter": "python",
   "pygments_lexer": "ipython3",
   "version": "3.5.2"
  }
 },
 "nbformat": 4,
 "nbformat_minor": 2
}
